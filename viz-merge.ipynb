{
 "cells": [
  {
   "cell_type": "code",
   "execution_count": 3,
   "metadata": {
    "collapsed": false
   },
   "outputs": [],
   "source": [
    "import pandas as pd\n",
    "import numpy as np\n",
    "import matplotlib\n",
    "import matplotlib.pyplot as plt\n",
    "import json\n",
    "import glob as glob\n",
    "import os\n",
    "%matplotlib inline"
   ]
  },
  {
   "cell_type": "code",
   "execution_count": 33,
   "metadata": {
    "collapsed": false
   },
   "outputs": [],
   "source": []
  },
  {
   "cell_type": "code",
   "execution_count": 84,
   "metadata": {
    "collapsed": false
   },
   "outputs": [
    {
     "name": "stdout",
     "output_type": "stream",
     "text": [
      "   size      mean       std\n",
      "0    1K  1.109474  0.838388\n",
      "1   50K  2.892632  0.736779\n",
      "2  100K  5.558421  1.138909\n"
     ]
    },
    {
     "data": {
      "image/png": "[encoded data removed]",
      "text/plain": [
       "<matplotlib.figure.Figure at 0x7fd7f8fa7050>"
      ]
     },
     "metadata": {},
     "output_type": "display_data"
    },
    {
     "data": {
      "image/png": "[encoded data removed]",
      "text/plain": [
       "<matplotlib.figure.Figure at 0x7fd7f89cfa10>"
      ]
     },
     "metadata": {},
     "output_type": "display_data"
    }
   ],
   "source": [
    "fig, ax = plt.subplots(1, 1, figsize=(6,2))\n",
    "\n",
    "df = pd.DataFrame(columns=[\"size\", \"mean\", \"std\"])\n",
    "with open('experiments/merge/results/summary-1k') as f:\n",
    "    d = pd.read_csv(f, names=['time'])\n",
    "df.loc[len(df)] = [\"1K\", float(d.mean()), float(d.std())]\n",
    "\n",
    "with open('experiments/merge/results/summary-50k') as f:\n",
    "    d = pd.read_csv(f, names=['time'])\n",
    "df.loc[len(df)] = [\"50K\", float(d.mean()), float(d.std())]\n",
    "\n",
    "with open('experiments/merge/results/summary-100k') as f:\n",
    "    d = pd.read_csv(f, names=['time'])\n",
    "df.loc[len(df)] = [\"100K\", float(d.mean()), float(d.std())]\n",
    "\n",
    "df.plot.bar(ax=ax, y='mean', yerr='std')\n",
    "ax.set_xticklabels(df['size'], rotation=0)\n",
    "ax.legend().remove()\n",
    "ax.set_ylabel(\"Runtime (sec)\")\n",
    "ax.set_ylim(0, 10)\n",
    "ax.set_xlabel(\"# of Create Updates in Journal\")\n",
    "fig.savefig('paper/graphs/merge-a.png',  bbox_inches='tight',  dpi=400)\n",
    "print df\n",
    "\n",
    "fig, ax = plt.subplots(1, 1, figsize=(6,2))\n",
    "with open('experiments/merge/results/summary-100k') as f:\n",
    "    d = pd.read_csv(f, names=['time'])\n",
    "d.plot.bar(ax=ax)\n",
    "ax.legend().remove()\n",
    "#ax.legend(fontsize=11, loc='lower right', ncol=2)\n",
    "font = {'size'   : 15}\n",
    "matplotlib.rc('font', **font)\n",
    "ax.set_ylabel(\"Runtime (sec)\")\n",
    "ax.set_xlabel(\"Run #\")\n",
    "ax.set_ylim(0, 10)\n",
    "fig.savefig('paper/graphs/merge-b.png', bbox_inches='tight', dpi=400)"
   ]
  },
  {
   "cell_type": "code",
   "execution_count": null,
   "metadata": {
    "collapsed": true
   },
   "outputs": [],
   "source": []
  }
 ],
 "metadata": {
  "kernelspec": {
   "display_name": "Python 2",
   "language": "python",
   "name": "python2"
  },
  "language_info": {
   "codemirror_mode": {
    "name": "ipython",
    "version": 2
   },
   "file_extension": ".py",
   "mimetype": "text/x-python",
   "name": "python",
   "nbconvert_exporter": "python",
   "pygments_lexer": "ipython2",
   "version": "2.7.11"
  }
 },
 "nbformat": 4,
 "nbformat_minor": 0
}
