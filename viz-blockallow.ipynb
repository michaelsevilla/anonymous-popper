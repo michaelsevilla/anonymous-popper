{
 "cells": [
  {
   "cell_type": "code",
   "execution_count": 2,
   "metadata": {
    "collapsed": false
   },
   "outputs": [],
   "source": [
    "import pandas as pd\n",
    "import numpy as np\n",
    "import matplotlib\n",
    "import matplotlib.pyplot as plt\n",
    "import json\n",
    "import glob as glob\n",
    "import os\n",
    "%matplotlib inline"
   ]
  },
  {
   "cell_type": "markdown",
   "metadata": {},
   "source": [
    "# FUSE Client\n",
    "\n",
    "1 server and 2 clients"
   ]
  },
  {
   "cell_type": "code",
   "execution_count": 3,
   "metadata": {
    "collapsed": false
   },
   "outputs": [],
   "source": [
    "def to_seconds(timestamp):\n",
    "    ts = timestamp.split(':')\n",
    "    return float(float(ts[0])*60*60 + float(ts[1])*60 + float(ts[2]))\n",
    "\n",
    "def parse_mdtest(files):\n",
    "    r = []\n",
    "    for fname in sorted(files):\n",
    "        with open(fname) as f:\n",
    "            data = json.load(f)\n",
    "            for line in data['stdout_lines']:\n",
    "                if \"started\" in line: start = line.split()[4]\n",
    "                if \"finished\" in line: end = line.split()[4]\n",
    "            r.append(to_seconds(end) - to_seconds(start))\n",
    "    return r\n",
    "\n",
    "def parse_delta(files):\n",
    "    r = []\n",
    "    o = []\n",
    "    for fname in sorted(files):\n",
    "        with open(fname) as f:\n",
    "            data = json.load(f)       \n",
    "            r.append(to_seconds(data['delta']))\n",
    "            try:\n",
    "                o.append(float(data['stdout']))\n",
    "            except:\n",
    "                o.append(0)\n",
    "    return r, o"
   ]
  },
  {
   "cell_type": "markdown",
   "metadata": {
    "collapsed": true
   },
   "source": [
    "# Decoupled vs. Normal Namespaces"
   ]
  },
  {
   "cell_type": "code",
   "execution_count": 7,
   "metadata": {
    "collapsed": false,
    "scrolled": true
   },
   "outputs": [
    {
     "name": "stdout",
     "output_type": "stream",
     "text": [
      "       allow  interfere\\n(from Fig 5b)     block  isolated\\n(from Fig 5b)\n",
      "0  1.706266                  1.728460  1.134465                 1.143603\n",
      "1  1.691906                  1.710183  1.266319                 1.288077\n",
      "2  1.873368                  1.926240  1.536227                 1.539817\n",
      "3  2.033943                  2.044909  1.933159                 1.897650\n",
      "4  2.281549                  2.293299  2.277633                 2.259356       allow  interfere\\n(from Fig 5b)     block  isolated\\n(from Fig 5b)\n",
      "0  0.395682                  0.402377  0.007030                 0.009045\n",
      "1  0.465734                  0.464268  0.018462                 0.009847\n",
      "2  0.509207                  0.508007  0.021607                 0.015488\n",
      "3  0.669113                  0.683446  0.031227                 0.039369\n",
      "4  0.704979                  0.695765  0.026312                 0.020093\n"
     ]
    },
    {
     "data": {
      "image/png": "[encoded data removed]",
      "text/plain": [
       "<matplotlib.figure.Figure at 0x7f67c3a1b210>"
      ]
     },
     "metadata": {},
     "output_type": "display_data"
    }
   ],
   "source": [
    "\n",
    "fig, ax = plt.subplots(1, 1)\n",
    "\n",
    "\n",
    "\n",
    "# baseline: 100K isolated creates\n",
    "site = 'experiments/fuse/consistency/results-old/nojournal-nocache/mdtest*'\n",
    "base = parse_mdtest(glob.glob(site + 'isolated-9800*'))\n",
    "norm = np.mean(base)\n",
    "\n",
    "# client scaling experiment\n",
    "mean = pd.DataFrame(columns=[\"allow\", \"interfere\\n(from Fig 5b)\", \"block\", \"isolated\\n(from Fig 5b)\"])\n",
    "stds = pd.DataFrame(columns=[\"allow\", \"interfere\\n(from Fig 5b)\", \"block\", \"isolated\\n(from Fig 5b)\"])\n",
    "for n in [2, 3, 4, 5, 6]:\n",
    "    site = 'experiments/fuse/scale-clients-isolated/results-paper/creates-touchstream-'+str(n)+'-decoupled-1/*/mdtest-'\n",
    "    decoupled = parse_mdtest(glob.glob(site + 'interfere-9800*'))\n",
    "    site = 'experiments/fuse/scale-clients-isolated/results-paper/creates-touchstream-'+str(n)+'-decoupled-0/*/mdtest-'    \n",
    "    not_decoupled = parse_mdtest(glob.glob(site + 'interfere-9800*'))\n",
    "    site = 'experiments/fuse/scale-clients/results-touchstream/creates-*'+str(n)+'*/*/mdtest-'\n",
    "    interfer = parse_mdtest(glob.glob(site + 'interfere-9800*'))\n",
    "    isolated = parse_mdtest(glob.glob(site + 'isolated-9800*'))    \n",
    "    mean.loc[len(mean)] = [np.mean(not_decoupled/norm), np.mean(interfer/norm), np.mean(decoupled/norm), np.mean(isolated/norm)]\n",
    "    stds.loc[len(stds)] = [np.std(not_decoupled/norm), np.std(interfer/norm), np.std(decoupled/norm), np.std(isolated/norm)] \n",
    "\n",
    "mean.plot.bar(ax=ax, yerr=stds)\n",
    "ax.set_xticklabels(range(2, 9), rotation=0)\n",
    "ax.set_title(\"100K Creates with Another Client Creating Files\")\n",
    "ax.set_xlabel(\"Number of Clients\")\n",
    "ax.set_ylabel(\"Slowdown\\n(Compared to 1 Client)\")\n",
    "vals = ax.get_yticks()\n",
    "ax.set_yticklabels(['{:3.1f}x'.format(x*1) for x in vals] + [\"4.0x\"])\n",
    "ax.set_ylim(.1, 3.8)\n",
    "\n",
    "bars = ax.patches\n",
    "hatches = ''.join(h*len(mean) for h in '/ / ')\n",
    "for bar, hatch in zip(bars, hatches):\n",
    "    bar.set_hatch(hatch)\n",
    "ax.legend(loc='upper left', ncol=2)\n",
    "\n",
    "fig.savefig('paper/graphs/slowdown-allow-block.png', dpi=400)\n",
    "print mean, stds"
   ]
  },
  {
   "cell_type": "code",
   "execution_count": null,
   "metadata": {
    "collapsed": true
   },
   "outputs": [],
   "source": []
  }
 ],
 "metadata": {
  "kernelspec": {
   "display_name": "Python 2",
   "language": "python",
   "name": "python2"
  },
  "language_info": {
   "codemirror_mode": {
    "name": "ipython",
    "version": 2
   },
   "file_extension": ".py",
   "mimetype": "text/x-python",
   "name": "python",
   "nbconvert_exporter": "python",
   "pygments_lexer": "ipython2",
   "version": "2.7.11"
  }
 },
 "nbformat": 4,
 "nbformat_minor": 0
}
