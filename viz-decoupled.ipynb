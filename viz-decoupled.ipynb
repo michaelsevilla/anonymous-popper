{
 "cells": [
  {
   "cell_type": "code",
   "execution_count": 13,
   "metadata": {
    "collapsed": false
   },
   "outputs": [],
   "source": [
    "import pandas as pd\n",
    "import numpy as np\n",
    "import matplotlib\n",
    "import matplotlib.pyplot as plt\n",
    "import json\n",
    "import glob as glob\n",
    "import os\n",
    "%matplotlib inline\n",
    "import warnings\n",
    "from matplotlib.ticker import FormatStrFormatter\n",
    "warnings.filterwarnings('ignore')"
   ]
  },
  {
   "cell_type": "markdown",
   "metadata": {},
   "source": [
    "# Cost of Decoupled Namespace\n",
    "\n",
    "1 server 1 client"
   ]
  },
  {
   "cell_type": "code",
   "execution_count": 14,
   "metadata": {
    "collapsed": true
   },
   "outputs": [],
   "source": [
    "def to_seconds(timestamp):\n",
    "    ts = timestamp.split(':')\n",
    "    try: return float(float(ts[0])*60*60 + float(ts[1])*60 + float(ts[2]))\n",
    "    except: return float(0)"
   ]
  },
  {
   "cell_type": "code",
   "execution_count": 15,
   "metadata": {
    "collapsed": false
   },
   "outputs": [],
   "source": [
    "def mdtest(fname):\n",
    "    with open(fname) as f:\n",
    "        start = end = \"\"\n",
    "        data = json.load(f)\n",
    "        for line in data['stdout_lines']:\n",
    "            if \"started\" in line: start = line.split()[4]\n",
    "            if \"finished\" in line: end = line.split()[4]\n",
    "        result = to_seconds(end) - to_seconds(start)\n",
    "        if result < 0: return 0\n",
    "        return result    "
   ]
  },
  {
   "cell_type": "code",
   "execution_count": 16,
   "metadata": {
    "collapsed": false
   },
   "outputs": [
    {
     "name": "stdout",
     "output_type": "stream",
     "text": [
      "2.38418579102\n",
      "2.86102294922e-05\n"
     ]
    },
    {
     "data": {
      "text/html": [
       "<div>\n",
       "<table border=\"1\" class=\"dataframe\">\n",
       "  <thead>\n",
       "    <tr style=\"text-align: right;\">\n",
       "      <th></th>\n",
       "      <th>nfiles</th>\n",
       "      <th>time</th>\n",
       "      <th>size</th>\n",
       "      <th>norm</th>\n",
       "    </tr>\n",
       "  </thead>\n",
       "  <tbody>\n",
       "    <tr>\n",
       "      <th>0</th>\n",
       "      <td>10</td>\n",
       "      <td>17:28:21</td>\n",
       "      <td>31.081055</td>\n",
       "      <td>3.108105</td>\n",
       "    </tr>\n",
       "    <tr>\n",
       "      <th>2</th>\n",
       "      <td>100</td>\n",
       "      <td>17:59:46</td>\n",
       "      <td>235.163086</td>\n",
       "      <td>2.351631</td>\n",
       "    </tr>\n",
       "    <tr>\n",
       "      <th>4</th>\n",
       "      <td>1000</td>\n",
       "      <td>18:31:01</td>\n",
       "      <td>2276.862305</td>\n",
       "      <td>2.276862</td>\n",
       "    </tr>\n",
       "    <tr>\n",
       "      <th>6</th>\n",
       "      <td>10000</td>\n",
       "      <td>19:03:07</td>\n",
       "      <td>22702.643555</td>\n",
       "      <td>2.270264</td>\n",
       "    </tr>\n",
       "    <tr>\n",
       "      <th>8</th>\n",
       "      <td>100000</td>\n",
       "      <td>19:36:25</td>\n",
       "      <td>227048.346680</td>\n",
       "      <td>2.270483</td>\n",
       "    </tr>\n",
       "  </tbody>\n",
       "</table>\n",
       "</div>"
      ],
      "text/plain": [
       "   nfiles      time           size      norm\n",
       "0      10  17:28:21      31.081055  3.108105\n",
       "2     100  17:59:46     235.163086  2.351631\n",
       "4    1000  18:31:01    2276.862305  2.276862\n",
       "6   10000  19:03:07   22702.643555  2.270264\n",
       "8  100000  19:36:25  227048.346680  2.270483"
      ]
     },
     "execution_count": 16,
     "metadata": {},
     "output_type": "execute_result"
    },
    {
     "data": {
      "image/png": "[encoded data removed]",
      "text/plain": [
       "<matplotlib.figure.Figure at 0x7f0e0889bd50>"
      ]
     },
     "metadata": {},
     "output_type": "display_data"
    }
   ],
   "source": [
    "df = pd.DataFrame(columns=['nfiles', 'time', 'size'])\n",
    "\n",
    "exp = \"experiments/fuse/batchfs/results-all/results-run0/*/fsize.txt\"\n",
    "for fname in sorted(glob.glob(exp)):\n",
    "    with open(fname) as f:\n",
    "        d = pd.read_csv(f, names=['nfiles', 'time', 'size'])\n",
    "        d['size'] = d['size']/(1024)\n",
    "        df = df.append(d, ignore_index=True)\n",
    "\n",
    "df = df.drop_duplicates('nfiles')\n",
    "fig, ax = plt.subplots(1, 1)\n",
    "df['norm'] = df['size']/df['nfiles']\n",
    "df.plot.bar(x='nfiles', y='norm', ax=ax)\n",
    "ax.set_title(\"Journal Storage Footprint\")\n",
    "ax.set_xticklabels([10, 100, 1000, 10000, 100000], rotation=0)\n",
    "ax.set_xlabel(\"Number of Files\")\n",
    "ax.set_ylabel(\"Storage per Update\")\n",
    "ax.yaxis.set_major_formatter(FormatStrFormatter('%.1f KB'))\n",
    "ax.legend().remove()\n",
    "#ax.legend(fontsize=11, loc='lower right', ncol=2)\n",
    "font = {'size'   : 15}\n",
    "matplotlib.rc('font', **font)\n",
    "fig.savefig('paper/graphs/behavior-journal-size.png', dpi=400)\n",
    "\n",
    "print ((2.5)*1024*1000000)/(1024*1024*1024)\n",
    "print ((2.5)*1024*(10^6))/(1024*1024*1024)\n",
    "\n",
    "df"
   ]
  },
  {
   "cell_type": "code",
   "execution_count": 23,
   "metadata": {
    "collapsed": false
   },
   "outputs": [
    {
     "name": "stdout",
     "output_type": "stream",
     "text": [
      "job        stream  local persist  global persist       RPCs  \\\n",
      "nfile                                                         \n",
      "1000     4.808571       0.090002        1.249656   4.808571   \n",
      "10000    5.901446       1.443523        1.562496  38.359398   \n",
      "100000  14.239113       4.079124        2.758400  89.502994   \n",
      "\n",
      "job     nonvolatile apply  volatile apply  \n",
      "nfile                                      \n",
      "1000            61.583948        0.368067  \n",
      "10000          401.090918        0.565541  \n",
      "100000         865.861748        1.347355  \n"
     ]
    },
    {
     "data": {
      "image/png": "[encoded data removed]",
      "text/plain": [
       "<matplotlib.figure.Figure at 0x7f0e082b8f50>"
      ]
     },
     "metadata": {},
     "output_type": "display_data"
    },
    {
     "data": {
      "image/png": "[encoded data removed]",
      "text/plain": [
       "<matplotlib.figure.Figure at 0x7f0e08865b50>"
      ]
     },
     "metadata": {},
     "output_type": "display_data"
    }
   ],
   "source": [
    "fig, ax = plt.subplots(1, 1)\n",
    "exp   = \"experiments/fuse/batchfs/results-all/\"\n",
    "runs  = [\"run0\"] #, \"run1\", \"run2\", \"run3\"]\n",
    "jobs  = ['RPCs', 'create', 'save', 'persist', 'v.apply', 'apply']\n",
    "files = ['1000', '10000', '100000']\n",
    "\n",
    "# get nostream\n",
    "df = pd.DataFrame(columns=['job', 'nfile', 'rtime'])\n",
    "for nfiles in files:\n",
    "    for s in [\"stream\", \"nostream\"]:\n",
    "        for run in runs:\n",
    "            # parse the events execution times\n",
    "            expdir = exp\n",
    "            expdir += '/results-' + run \n",
    "            expdir += '/' + nfiles \n",
    "            with open(expdir + '/summary-' + s + '.txt') as f:\n",
    "                d = pd.read_csv(f, names=['job', 'time', 'delta'])\n",
    "                d['rtime'] = d['delta'].apply(to_seconds)\n",
    "                d['nfile'] = np.full(len(d), nfiles)\n",
    "                del d['time'], d['delta']\n",
    "                d['job'] = d['job'] + '-' + s + '-' + run\n",
    "                df = df.append(d, ignore_index=True)\n",
    "            # parse the RPCs execution times\n",
    "            df.loc[len(df)] = [\"RPCs-\" + s + '-' + run] + [float(nfiles)] + [mdtest(expdir + '/summary-rpcs-' + s + '.txt')]\n",
    "\n",
    "# massage into graphable format\n",
    "df = df.pivot(index='nfile', values='rtime', columns='job')\n",
    "for j in jobs:\n",
    "    for s in [\"stream\", \"nostream\"]:\n",
    "        job = j + '-' + s\n",
    "        dfs = [job + '-' + r for r in runs]\n",
    "        df[j + '-' + s] = df[dfs].mean(axis=1)#\n",
    "\n",
    "# calculate the phase execution times\n",
    "df['RPCs'] = df['RPCs-nostream']\n",
    "df['stream'] = df['RPCs-stream'] - df['RPCs-nostream']\n",
    "df['create'] = df['create-nostream']\n",
    "df['local persist'] = df['save-nostream'] - df['create']\n",
    "df['global persist'] = df['persist-nostream'] - df['create']\n",
    "df['volatile apply'] = df['v.apply-nostream'] - df['create']\n",
    "df['nonvolatile apply'] = df['apply-nostream'] - df['create']\n",
    "\n",
    "# prune\n",
    "creates = df['create']\n",
    "slowdowns = df[['stream', 'local persist', 'global persist', 'RPCs', 'nonvolatile apply', 'volatile apply']]\n",
    "slowdowns = slowdowns[:].div(creates, axis=0)\n",
    "print slowdowns\n",
    "\n",
    "# graph slowdowns\n",
    "slowdowns.plot.bar(ax=ax)\n",
    "#yerr=['10', '10', '10', '10', '10', '10', '100', '100', '100', '100', '100', '100', '10000', '10000', '10000', '10000', '10000', '10000', ])\n",
    "ax.set_title(\"Mechanisms in Table 1\")\n",
    "ax.set_ylabel(\"Slowdown (Compared to Create)\")\n",
    "ax.set_xticklabels(files, rotation=0)\n",
    "ax.set_xlabel(\"Number of Files\")\n",
    "ax.yaxis.set_major_formatter(FormatStrFormatter('%.0fx'))\n",
    "ax.set_yscale('log')\n",
    "fig.savefig('paper/graphs/slowdown-mechanisms.png', dpi=400)\n",
    "\n",
    "bars = ax.patches\n",
    "hatches = ''.join(h*len(slowdowns) for h in 'xxx   ')\n",
    "for bar, hatch in zip(bars, hatches):\n",
    "    bar.set_hatch(hatch)\n",
    "ax.legend(fontsize=11, loc='lower right', ncol=2)\n",
    "font = {'size'   : 15}\n",
    "matplotlib.rc('font', **font)\n",
    "\n",
    "fig.savefig('paper/graphs/slowdown-mechanisms.png', dpi=400)\n",
    "#############################################################################\n",
    "\n",
    "#fig, ax = plt.subplots(1, 1)\n",
    "\n",
    "# graph policies\n",
    "#policies = df\n",
    "#policies['create'] = creates\n",
    "#policies['create + volatile apply'] = creates + df['volatile apply']\n",
    "#policies['POSIX (no stream)'] = df['RPCs']\n",
    "#policies['DeltaFS'] = creates + df['local persist']\n",
    "#policies['BatchFS'] = creates + df['local persist'] + df['volatile apply']\n",
    "#policies['RPCs + local persist'] = df['RPCs'] + df['local persist']\n",
    "#policies['create + local persist'] = creates + df['global persist']\n",
    "#policies['create + local persist + volatile apply'] = creates + df['local persist'] + df['volatile apply']\n",
    "#policies['POSIX'] = df['RPCs'] + df['stream']\n",
    "\n",
    "# normalize and graph\n",
    "#policies = policies[:].div(creates, axis=0)\n",
    "#policies = policies[['POSIX', 'POSIX (no stream)', 'BatchFS', 'DeltaFS']]\n",
    "#policies.plot.bar(ax=ax)\n",
    "#ax.set_ylim(0)\n",
    "#ax.set_title(\"Policies from Table 1\")\n",
    "#ax.legend(fontsize=8, loc='upper left')\n",
    "#ax.set_ylim(0)\n",
    "#ax.set_xticklabels(files, rotation=0)\n",
    "#ax.set_xlabel(\"Number of Files\")\n",
    "#ax.yaxis.set_major_formatter(FormatStrFormatter('%.0fx'))\n",
    "#fig.savefig('paper/graphs/slowdown-related-work.png', dpi=400)\n",
    "#print ax.get_yticks()\n",
    "\n",
    "#############################################################################\n",
    "\n",
    "fig, ax = plt.subplots(1, 1)\n",
    "\n",
    "exp   = \"experiments/fuse/batchfs/results-all/\"\n",
    "runs  = [\"run0\"] #, \"run1\", \"run2\", \"run3\"]\n",
    "jobs  = ['RPCs', 'create', 'save', 'persist', 'v.apply', 'apply']\n",
    "files = ['1000', '10000', '100000']\n",
    "\n",
    "# get nostream\n",
    "df = pd.DataFrame(columns=['job', 'nfile', 'rtime'])\n",
    "for nfiles in files:\n",
    "    for s in [\"stream\", \"nostream\"]:\n",
    "        for run in runs:\n",
    "            # parse the events execution times\n",
    "            expdir = exp\n",
    "            expdir += '/results-' + run \n",
    "            expdir += '/' + nfiles \n",
    "            with open(expdir + '/summary-' + s + '.txt') as f:\n",
    "                d = pd.read_csv(f, names=['job', 'time', 'delta'])\n",
    "                d['rtime'] = d['delta'].apply(to_seconds)\n",
    "                d['nfile'] = np.full(len(d), nfiles)\n",
    "                del d['time'], d['delta']\n",
    "                d['job'] = d['job'] + '-' + s + '-' + run\n",
    "                df = df.append(d, ignore_index=True)\n",
    "            # parse the RPCs execution times\n",
    "            df.loc[len(df)] = [\"RPCs-\" + s + '-' + run] + [float(nfiles)] + [mdtest(expdir + '/summary-rpcs-' + s + '.txt')]\n",
    "\n",
    "# massage into graphable format\n",
    "df = df.pivot(index='nfile', values='rtime', columns='job')\n",
    "for j in jobs:\n",
    "    for s in [\"stream\", \"nostream\"]:\n",
    "        job = j + '-' + s\n",
    "        dfs = [job + '-' + r for r in runs]\n",
    "        df[j + '-' + s] = df[dfs].mean(axis=1)#\n",
    "\n",
    "# calculate the phase execution times\n",
    "df['RPCs'] = df['RPCs-nostream']\n",
    "df['stream'] = df['RPCs-stream'] - df['RPCs-nostream']\n",
    "df['create'] = df['create-nostream']\n",
    "df['save'] = df['save-nostream'] - df['create']\n",
    "df['persist'] = df['persist-nostream'] - df['create']\n",
    "df['v.apply'] = df['v.apply-nostream'] - df['create']\n",
    "df['apply'] = df['apply-nostream'] - df['create']\n",
    "\n",
    "# prune\n",
    "creates = df['create']\n",
    "slowdowns = df[['v.apply', 'save', 'persist', 'stream', 'RPCs', 'apply']]\n",
    "slowdowns = slowdowns[:].div(creates, axis=0)\n",
    "\n",
    "# graph fair comparisons\n",
    "fair = df\n",
    "fair['RPCs+stream'] = df['RPCs'] + df['stream']\n",
    "fair['create+persist+v.apply'] = creates + df['persist'] + df['v.apply']\n",
    "fair['create+v.apply'] = creates + df['v.apply']\n",
    "fair['RPCs'] = df['RPCs']\n",
    "\n",
    "# normalize and graph\n",
    "fair = fair[:].div(creates, axis=0)\n",
    "fair['Strong Consistency'] = fair['RPCs+stream']\n",
    "fair['Weak Consistency'] = fair['create+persist+v.apply']\n",
    "fair['Strong Consistency,\\nNo Fault Tolerance'] = fair['RPCs']\n",
    "fair['Weak Consistency,\\nNo Fault Tolerance'] = fair['create+v.apply']\n",
    "\n",
    "fair = fair[['Strong Consistency',\n",
    "              'Strong Consistency,\\nNo Fault Tolerance', \n",
    "              'Weak Consistency',\n",
    "              'Weak Consistency,\\nNo Fault Tolerance', \n",
    "             ]]\n",
    "fair.plot.bar(ax=ax)\n",
    "ax.set_title(\"Strong vs. Weak Consistency\")\n",
    "ax.set_ylim(0)\n",
    "ax.legend(fontsize=11, loc='upper left')\n",
    "ax.set_ylim(0, 120)\n",
    "ax.set_xticklabels(files, rotation=0)\n",
    "ax.set_xlabel(\"Number of Files\")\n",
    "ax.set_ylabel(\"Slowdown (Compared to Create)\")\n",
    "\n",
    "ax.yaxis.set_major_formatter(FormatStrFormatter('%.0fx'))\n",
    "bars = ax.patches\n",
    "hatches = ''.join(h*len(slowdowns) for h in 'xx  ')\n",
    "for bar, hatch in zip(bars, hatches):\n",
    "    bar.set_hatch(hatch)\n",
    "ax.legend(fontsize=11, loc='upper left', ncol=1)\n",
    "font = {'size'   : 15}\n",
    "matplotlib.rc('font', **font)\n",
    "fig.savefig('paper/graphs/slowdown-strong-v-weak.png', dpi=400)\n",
    "\n"
   ]
  },
  {
   "cell_type": "markdown",
   "metadata": {},
   "source": [
    "# Overhead of RPCs\n"
   ]
  },
  {
   "cell_type": "code",
   "execution_count": 18,
   "metadata": {
    "collapsed": false
   },
   "outputs": [
    {
     "name": "stdout",
     "output_type": "stream",
     "text": [
      "nfile\n",
      "1000      13.064381\n",
      "10000     67.827738\n",
      "100000    66.428664\n",
      "dtype: float64\n",
      "nfile\n",
      "1000      12.807121\n",
      "10000     10.456132\n",
      "100000     9.674109\n",
      "dtype: float64\n",
      "nfile\n",
      "1000      0.072021\n",
      "10000     0.923857\n",
      "100000    1.478801\n",
      "dtype: float64\n"
     ]
    },
    {
     "data": {
      "text/html": [
       "<div>\n",
       "<table border=\"1\" class=\"dataframe\">\n",
       "  <thead>\n",
       "    <tr style=\"text-align: right;\">\n",
       "      <th>job</th>\n",
       "      <th>v.apply</th>\n",
       "      <th>save</th>\n",
       "      <th>persist</th>\n",
       "      <th>stream</th>\n",
       "      <th>RPCs</th>\n",
       "      <th>apply</th>\n",
       "    </tr>\n",
       "    <tr>\n",
       "      <th>nfile</th>\n",
       "      <th></th>\n",
       "      <th></th>\n",
       "      <th></th>\n",
       "      <th></th>\n",
       "      <th></th>\n",
       "      <th></th>\n",
       "    </tr>\n",
       "  </thead>\n",
       "  <tbody>\n",
       "    <tr>\n",
       "      <th>1000</th>\n",
       "      <td>0.368067</td>\n",
       "      <td>0.090002</td>\n",
       "      <td>1.249656</td>\n",
       "      <td>4.808571</td>\n",
       "      <td>4.808571</td>\n",
       "      <td>61.583948</td>\n",
       "    </tr>\n",
       "    <tr>\n",
       "      <th>10000</th>\n",
       "      <td>0.565541</td>\n",
       "      <td>1.443523</td>\n",
       "      <td>1.562496</td>\n",
       "      <td>5.901446</td>\n",
       "      <td>38.359398</td>\n",
       "      <td>401.090918</td>\n",
       "    </tr>\n",
       "    <tr>\n",
       "      <th>100000</th>\n",
       "      <td>1.347355</td>\n",
       "      <td>4.079124</td>\n",
       "      <td>2.758400</td>\n",
       "      <td>14.239113</td>\n",
       "      <td>89.502994</td>\n",
       "      <td>865.861748</td>\n",
       "    </tr>\n",
       "  </tbody>\n",
       "</table>\n",
       "</div>"
      ],
      "text/plain": [
       "job      v.apply      save   persist     stream       RPCs       apply\n",
       "nfile                                                                 \n",
       "1000    0.368067  0.090002  1.249656   4.808571   4.808571   61.583948\n",
       "10000   0.565541  1.443523  1.562496   5.901446  38.359398  401.090918\n",
       "100000  1.347355  4.079124  2.758400  14.239113  89.502994  865.861748"
      ]
     },
     "execution_count": 18,
     "metadata": {},
     "output_type": "execute_result"
    }
   ],
   "source": [
    "print slowdowns['RPCs']/slowdowns['v.apply']\n",
    "print slowdowns['apply']/slowdowns['RPCs']\n",
    "print slowdowns['save']/slowdowns['persist']\n",
    "slowdowns"
   ]
  },
  {
   "cell_type": "code",
   "execution_count": 19,
   "metadata": {
    "collapsed": false
   },
   "outputs": [
    {
     "ename": "KeyError",
     "evalue": "'Eventual Consistency'",
     "output_type": "error",
     "traceback": [
      "\u001b[1;31m---------------------------------------------------------------------------\u001b[0m",
      "\u001b[1;31mKeyError\u001b[0m                                  Traceback (most recent call last)",
      "\u001b[1;32m<ipython-input-19-b3bf239f4db8>\u001b[0m in \u001b[0;36m<module>\u001b[1;34m()\u001b[0m\n\u001b[1;32m----> 1\u001b[1;33m \u001b[1;32mprint\u001b[0m \u001b[0mfair\u001b[0m\u001b[1;33m[\u001b[0m\u001b[1;34m'Strong Consistency'\u001b[0m\u001b[1;33m]\u001b[0m\u001b[1;33m/\u001b[0m\u001b[0mfair\u001b[0m\u001b[1;33m[\u001b[0m\u001b[1;34m'Eventual Consistency'\u001b[0m\u001b[1;33m]\u001b[0m\u001b[1;33m\u001b[0m\u001b[0m\n\u001b[0m\u001b[0;32m      2\u001b[0m \u001b[1;32mprint\u001b[0m \u001b[0mfair\u001b[0m\u001b[1;33m[\u001b[0m\u001b[1;34m'Strong Consistency,\\nNo Fault Tolerance'\u001b[0m\u001b[1;33m]\u001b[0m\u001b[1;33m/\u001b[0m\u001b[0mfair\u001b[0m\u001b[1;33m[\u001b[0m\u001b[1;34m'Eventual Consistency,\\nNo Fault Tolerance'\u001b[0m\u001b[1;33m]\u001b[0m\u001b[1;33m\u001b[0m\u001b[0m\n\u001b[0;32m      3\u001b[0m \u001b[1;33m\u001b[0m\u001b[0m\n\u001b[0;32m      4\u001b[0m \u001b[0mfair\u001b[0m\u001b[1;33m\u001b[0m\u001b[0m\n",
      "\u001b[1;32m/opt/conda/envs/python2/lib/python2.7/site-packages/pandas/core/frame.pyc\u001b[0m in \u001b[0;36m__getitem__\u001b[1;34m(self, key)\u001b[0m\n\u001b[0;32m   1967\u001b[0m             \u001b[1;32mreturn\u001b[0m \u001b[0mself\u001b[0m\u001b[1;33m.\u001b[0m\u001b[0m_getitem_multilevel\u001b[0m\u001b[1;33m(\u001b[0m\u001b[0mkey\u001b[0m\u001b[1;33m)\u001b[0m\u001b[1;33m\u001b[0m\u001b[0m\n\u001b[0;32m   1968\u001b[0m         \u001b[1;32melse\u001b[0m\u001b[1;33m:\u001b[0m\u001b[1;33m\u001b[0m\u001b[0m\n\u001b[1;32m-> 1969\u001b[1;33m             \u001b[1;32mreturn\u001b[0m \u001b[0mself\u001b[0m\u001b[1;33m.\u001b[0m\u001b[0m_getitem_column\u001b[0m\u001b[1;33m(\u001b[0m\u001b[0mkey\u001b[0m\u001b[1;33m)\u001b[0m\u001b[1;33m\u001b[0m\u001b[0m\n\u001b[0m\u001b[0;32m   1970\u001b[0m \u001b[1;33m\u001b[0m\u001b[0m\n\u001b[0;32m   1971\u001b[0m     \u001b[1;32mdef\u001b[0m \u001b[0m_getitem_column\u001b[0m\u001b[1;33m(\u001b[0m\u001b[0mself\u001b[0m\u001b[1;33m,\u001b[0m \u001b[0mkey\u001b[0m\u001b[1;33m)\u001b[0m\u001b[1;33m:\u001b[0m\u001b[1;33m\u001b[0m\u001b[0m\n",
      "\u001b[1;32m/opt/conda/envs/python2/lib/python2.7/site-packages/pandas/core/frame.pyc\u001b[0m in \u001b[0;36m_getitem_column\u001b[1;34m(self, key)\u001b[0m\n\u001b[0;32m   1974\u001b[0m         \u001b[1;31m# get column\u001b[0m\u001b[1;33m\u001b[0m\u001b[1;33m\u001b[0m\u001b[0m\n\u001b[0;32m   1975\u001b[0m         \u001b[1;32mif\u001b[0m \u001b[0mself\u001b[0m\u001b[1;33m.\u001b[0m\u001b[0mcolumns\u001b[0m\u001b[1;33m.\u001b[0m\u001b[0mis_unique\u001b[0m\u001b[1;33m:\u001b[0m\u001b[1;33m\u001b[0m\u001b[0m\n\u001b[1;32m-> 1976\u001b[1;33m             \u001b[1;32mreturn\u001b[0m \u001b[0mself\u001b[0m\u001b[1;33m.\u001b[0m\u001b[0m_get_item_cache\u001b[0m\u001b[1;33m(\u001b[0m\u001b[0mkey\u001b[0m\u001b[1;33m)\u001b[0m\u001b[1;33m\u001b[0m\u001b[0m\n\u001b[0m\u001b[0;32m   1977\u001b[0m \u001b[1;33m\u001b[0m\u001b[0m\n\u001b[0;32m   1978\u001b[0m         \u001b[1;31m# duplicate columns & possible reduce dimensionality\u001b[0m\u001b[1;33m\u001b[0m\u001b[1;33m\u001b[0m\u001b[0m\n",
      "\u001b[1;32m/opt/conda/envs/python2/lib/python2.7/site-packages/pandas/core/generic.pyc\u001b[0m in \u001b[0;36m_get_item_cache\u001b[1;34m(self, item)\u001b[0m\n\u001b[0;32m   1089\u001b[0m         \u001b[0mres\u001b[0m \u001b[1;33m=\u001b[0m \u001b[0mcache\u001b[0m\u001b[1;33m.\u001b[0m\u001b[0mget\u001b[0m\u001b[1;33m(\u001b[0m\u001b[0mitem\u001b[0m\u001b[1;33m)\u001b[0m\u001b[1;33m\u001b[0m\u001b[0m\n\u001b[0;32m   1090\u001b[0m         \u001b[1;32mif\u001b[0m \u001b[0mres\u001b[0m \u001b[1;32mis\u001b[0m \u001b[0mNone\u001b[0m\u001b[1;33m:\u001b[0m\u001b[1;33m\u001b[0m\u001b[0m\n\u001b[1;32m-> 1091\u001b[1;33m             \u001b[0mvalues\u001b[0m \u001b[1;33m=\u001b[0m \u001b[0mself\u001b[0m\u001b[1;33m.\u001b[0m\u001b[0m_data\u001b[0m\u001b[1;33m.\u001b[0m\u001b[0mget\u001b[0m\u001b[1;33m(\u001b[0m\u001b[0mitem\u001b[0m\u001b[1;33m)\u001b[0m\u001b[1;33m\u001b[0m\u001b[0m\n\u001b[0m\u001b[0;32m   1092\u001b[0m             \u001b[0mres\u001b[0m \u001b[1;33m=\u001b[0m \u001b[0mself\u001b[0m\u001b[1;33m.\u001b[0m\u001b[0m_box_item_values\u001b[0m\u001b[1;33m(\u001b[0m\u001b[0mitem\u001b[0m\u001b[1;33m,\u001b[0m \u001b[0mvalues\u001b[0m\u001b[1;33m)\u001b[0m\u001b[1;33m\u001b[0m\u001b[0m\n\u001b[0;32m   1093\u001b[0m             \u001b[0mcache\u001b[0m\u001b[1;33m[\u001b[0m\u001b[0mitem\u001b[0m\u001b[1;33m]\u001b[0m \u001b[1;33m=\u001b[0m \u001b[0mres\u001b[0m\u001b[1;33m\u001b[0m\u001b[0m\n",
      "\u001b[1;32m/opt/conda/envs/python2/lib/python2.7/site-packages/pandas/core/internals.pyc\u001b[0m in \u001b[0;36mget\u001b[1;34m(self, item, fastpath)\u001b[0m\n\u001b[0;32m   3209\u001b[0m \u001b[1;33m\u001b[0m\u001b[0m\n\u001b[0;32m   3210\u001b[0m             \u001b[1;32mif\u001b[0m \u001b[1;32mnot\u001b[0m \u001b[0misnull\u001b[0m\u001b[1;33m(\u001b[0m\u001b[0mitem\u001b[0m\u001b[1;33m)\u001b[0m\u001b[1;33m:\u001b[0m\u001b[1;33m\u001b[0m\u001b[0m\n\u001b[1;32m-> 3211\u001b[1;33m                 \u001b[0mloc\u001b[0m \u001b[1;33m=\u001b[0m \u001b[0mself\u001b[0m\u001b[1;33m.\u001b[0m\u001b[0mitems\u001b[0m\u001b[1;33m.\u001b[0m\u001b[0mget_loc\u001b[0m\u001b[1;33m(\u001b[0m\u001b[0mitem\u001b[0m\u001b[1;33m)\u001b[0m\u001b[1;33m\u001b[0m\u001b[0m\n\u001b[0m\u001b[0;32m   3212\u001b[0m             \u001b[1;32melse\u001b[0m\u001b[1;33m:\u001b[0m\u001b[1;33m\u001b[0m\u001b[0m\n\u001b[0;32m   3213\u001b[0m                 \u001b[0mindexer\u001b[0m \u001b[1;33m=\u001b[0m \u001b[0mnp\u001b[0m\u001b[1;33m.\u001b[0m\u001b[0marange\u001b[0m\u001b[1;33m(\u001b[0m\u001b[0mlen\u001b[0m\u001b[1;33m(\u001b[0m\u001b[0mself\u001b[0m\u001b[1;33m.\u001b[0m\u001b[0mitems\u001b[0m\u001b[1;33m)\u001b[0m\u001b[1;33m)\u001b[0m\u001b[1;33m[\u001b[0m\u001b[0misnull\u001b[0m\u001b[1;33m(\u001b[0m\u001b[0mself\u001b[0m\u001b[1;33m.\u001b[0m\u001b[0mitems\u001b[0m\u001b[1;33m)\u001b[0m\u001b[1;33m]\u001b[0m\u001b[1;33m\u001b[0m\u001b[0m\n",
      "\u001b[1;32m/opt/conda/envs/python2/lib/python2.7/site-packages/pandas/core/index.pyc\u001b[0m in \u001b[0;36mget_loc\u001b[1;34m(self, key, method, tolerance)\u001b[0m\n\u001b[0;32m   1757\u001b[0m                                  'backfill or nearest lookups')\n\u001b[0;32m   1758\u001b[0m             \u001b[0mkey\u001b[0m \u001b[1;33m=\u001b[0m \u001b[0m_values_from_object\u001b[0m\u001b[1;33m(\u001b[0m\u001b[0mkey\u001b[0m\u001b[1;33m)\u001b[0m\u001b[1;33m\u001b[0m\u001b[0m\n\u001b[1;32m-> 1759\u001b[1;33m             \u001b[1;32mreturn\u001b[0m \u001b[0mself\u001b[0m\u001b[1;33m.\u001b[0m\u001b[0m_engine\u001b[0m\u001b[1;33m.\u001b[0m\u001b[0mget_loc\u001b[0m\u001b[1;33m(\u001b[0m\u001b[0mkey\u001b[0m\u001b[1;33m)\u001b[0m\u001b[1;33m\u001b[0m\u001b[0m\n\u001b[0m\u001b[0;32m   1760\u001b[0m \u001b[1;33m\u001b[0m\u001b[0m\n\u001b[0;32m   1761\u001b[0m         indexer = self.get_indexer([key], method=method,\n",
      "\u001b[1;32mpandas/index.pyx\u001b[0m in \u001b[0;36mpandas.index.IndexEngine.get_loc (pandas/index.c:3979)\u001b[1;34m()\u001b[0m\n",
      "\u001b[1;32mpandas/index.pyx\u001b[0m in \u001b[0;36mpandas.index.IndexEngine.get_loc (pandas/index.c:3843)\u001b[1;34m()\u001b[0m\n",
      "\u001b[1;32mpandas/hashtable.pyx\u001b[0m in \u001b[0;36mpandas.hashtable.PyObjectHashTable.get_item (pandas/hashtable.c:12265)\u001b[1;34m()\u001b[0m\n",
      "\u001b[1;32mpandas/hashtable.pyx\u001b[0m in \u001b[0;36mpandas.hashtable.PyObjectHashTable.get_item (pandas/hashtable.c:12216)\u001b[1;34m()\u001b[0m\n",
      "\u001b[1;31mKeyError\u001b[0m: 'Eventual Consistency'"
     ]
    }
   ],
   "source": [
    "print fair['Strong Consistency']/fair['Eventual Consistency']\n",
    "print fair['Strong Consistency,\\nNo Fault Tolerance']/fair['Eventual Consistency,\\nNo Fault Tolerance']\n",
    "\n",
    "fair\n"
   ]
  },
  {
   "cell_type": "markdown",
   "metadata": {},
   "source": [
    "# Overhead of Strong Consistency"
   ]
  },
  {
   "cell_type": "code",
   "execution_count": null,
   "metadata": {
    "collapsed": false
   },
   "outputs": [],
   "source": [
    "print fair['Strong Consistency']/fair['Eventual Consistency']\n",
    "print fair['Strong Consistency']/fair['Strong Consistency,\\nNo Fault Tolerance']\n",
    "print fair['Eventual Consistency']/fair['Eventual Consistency,\\nNo Fault Tolerance']\n"
   ]
  },
  {
   "cell_type": "code",
   "execution_count": null,
   "metadata": {
    "collapsed": true
   },
   "outputs": [],
   "source": [
    "\n",
    "\n",
    "#slowdown_mean['RPCs'] = mean['RPCs']\n",
    "#slowdown_mean.plot.bar(ax=ax)\n",
    "#df['RPCs'] = df['RPCs-nostream']\n",
    "#df['stream'] = df['RPCs-stream'] - df['RPCs-nostream']\n",
    "#df['create'] = df['create-nostream']\n",
    "#df['local persist'] = df['save-nostream'] - df['create']\n",
    "#df['global persist'] = df['persist-nostream'] - df['create']\n",
    "#df['volatile apply'] = df['v.apply-nostream'] - df['create']\n",
    "#df['nonvolatile apply'] = df['apply-nostream'] - df['create']\n",
    "\n",
    "#mean = pd.DataFrame()\n",
    "#stds = pd.DataFrame()\n",
    "#for j in jobs:\n",
    "#    for s in [\"stream\", \"nostream\"]:\n",
    "#        job = j + '-' + s\n",
    "#        dfs = [job + '-' + r for r in runs]\n",
    "#        try:\n",
    "#            mean[job] = df[dfs].mean(axis=1)\n",
    "#            stds[job] = df[dfs].std(axis=1)\n",
    "#        except:\n",
    "#            pass\n",
    "#mean = mean.reset_index()\n",
    "#stds = stds.reset_index()\n",
    "#mean.plot.bar(ax=ax, yerr=stds)\n",
    "#ax.set_title(\"Mechanisms in Table 1\")\n",
    "#ax.set_ylabel(\"Slowdown (Compared to Create)\")\n",
    "#ax.set_xticklabels(files, rotation=0)\n",
    "#ax.set_xlabel(\"Number of Files\")\n",
    "#ax.yaxis.set_major_formatter(FormatStrFormatter('%.0fx'))\n",
    "#ax.set_yscale('log')\n",
    "#fig.savefig('paper/graphs/slowdown-mechanisms.png', dpi=400)\n",
    "\n",
    "#bars = ax.patches\n",
    "#hatches = ''.join(h*len(slowdowns) for h in 'xxx   ')\n",
    "#for bar, hatch in zip(bars, hatches):\n",
    "#    bar.set_hatch(hatch)\n",
    "#ax.legend(fontsize=11, loc='lower right', ncol=2)\n",
    "#font = {'size'   : 14}\n",
    "#matplotlib.rc('font', **font)\n",
    "\n",
    "\n",
    "\n",
    "# prune\n",
    "#creates = df['create']\n",
    "#slowdowns = df[['stream', 'local persist', 'global persist', 'RPCs', 'nonvolatile apply', 'volatile apply']]\n",
    "#slowdowns = slowdowns[:].div(creates, axis=0)"
   ]
  },
  {
   "cell_type": "code",
   "execution_count": null,
   "metadata": {
    "collapsed": true
   },
   "outputs": [],
   "source": []
  },
  {
   "cell_type": "code",
   "execution_count": 32,
   "metadata": {
    "collapsed": false
   },
   "outputs": [
    {
     "name": "stdout",
     "output_type": "stream",
     "text": [
      "['RPCs-nostream-run0', 'RPCs-nostream-run1', 'RPCs-nostream-run2', 'RPCs-nostream-run3']\n"
     ]
    },
    {
     "data": {
      "text/plain": [
       "<matplotlib.axes._subplots.AxesSubplot at 0x7f0e08545710>"
      ]
     },
     "execution_count": 32,
     "metadata": {},
     "output_type": "execute_result"
    },
    {
     "data": {
      "image/png": "[encoded data removed]",
      "text/plain": [
       "<matplotlib.figure.Figure at 0x7f0e088afad0>"
      ]
     },
     "metadata": {},
     "output_type": "display_data"
    }
   ],
   "source": [
    "fig, ax = plt.subplots(1, 1)\n",
    "exp   = \"experiments/fuse/batchfs/results-all/\"\n",
    "runs  = [\"run0\", \"run1\", \"run2\", \"run3\"]\n",
    "jobs  = ['RPCs', 'create', 'save', 'persist', 'v.apply', 'apply']\n",
    "files = ['1000', '10000', '100000']\n",
    "\n",
    "# get nostream\n",
    "df = pd.DataFrame(columns=['job', 'nfile', 'rtime'])\n",
    "for nfiles in files:\n",
    "    for s in [\"stream\", \"nostream\"]:\n",
    "        for run in runs:\n",
    "            # parse the events execution times\n",
    "            expdir = exp\n",
    "            expdir += '/results-' + run \n",
    "            expdir += '/' + nfiles \n",
    "            with open(expdir + '/summary-' + s + '.txt') as f:\n",
    "                d = pd.read_csv(f, names=['job', 'time', 'delta'])\n",
    "                d['rtime'] = d['delta'].apply(to_seconds)\n",
    "                d['nfile'] = np.full(len(d), nfiles)\n",
    "                del d['time'], d['delta']\n",
    "                d['job'] = d['job'] + '-' + s + '-' + run\n",
    "                df = df.append(d, ignore_index=True)\n",
    "            # parse the RPCs execution times\n",
    "            df.loc[len(df)] = [\"RPCs-\" + s + '-' + run] + [float(nfiles)] + [mdtest(expdir + '/summary-rpcs-' + s + '.txt')]\n",
    "            \n",
    "# massage into graphable format\n",
    "df = df.pivot(index='nfile', values='rtime', columns='job')\n",
    "df = df.reset_index()\n",
    "\n",
    "# calculate the phase execution times\n",
    "mech = pd.DataFrame()\n",
    "#for j in jobs:\n",
    "#    for s in [\"stream\", \"nostream\"]:\n",
    "#        job = j + '-' + s\n",
    "#        dfs = [job + '-' + r for r in runs]\n",
    "job = ['RPCs-nostream' + '-' + r for r in runs]\n",
    "m = ['RPCs' + '-' + r for r in runs]\n",
    "mech[m] = df[job]\n",
    "#slowdown_mean['stream'] = mean['RPCs-stream'] - mean['RPCs-nostream']\n",
    "#slowdown_mean['create'] = mean['create-nostream']\n",
    "\n",
    "#mean = pd.DataFrame()\n",
    "#stds = pd.DataFrame()\n",
    "#mean['RPCs'] = mech[m].mean(axis=1)\n",
    "#stds['RPCs'] = mech[m].std(axis=1)\n",
    "#mean.plot.bar(ax=ax, yerr=stds)\n",
    "\n"
   ]
  },
  {
   "cell_type": "code",
   "execution_count": null,
   "metadata": {
    "collapsed": true
   },
   "outputs": [],
   "source": []
  }
 ],
 "metadata": {
  "kernelspec": {
   "display_name": "Python 2",
   "language": "python",
   "name": "python2"
  },
  "language_info": {
   "codemirror_mode": {
    "name": "ipython",
    "version": 2
   },
   "file_extension": ".py",
   "mimetype": "text/x-python",
   "name": "python",
   "nbconvert_exporter": "python",
   "pygments_lexer": "ipython2",
   "version": "2.7.11"
  }
 },
 "nbformat": 4,
 "nbformat_minor": 0
}
